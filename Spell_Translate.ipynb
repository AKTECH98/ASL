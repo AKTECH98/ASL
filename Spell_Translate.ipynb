{
 "cells": [
  {
   "metadata": {
    "ExecuteTime": {
     "end_time": "2025-01-29T17:14:54.876811Z",
     "start_time": "2025-01-29T17:14:54.666893Z"
    }
   },
   "cell_type": "code",
   "source": [
    "import mediapipe as mp\n",
    "import cv2\n",
    "import matplotlib.pyplot as plt\n",
    "import numpy as np\n",
    "from sklearn.model_selection import train_test_split\n",
    "import os\n",
    "import json\n",
    "import tensorflow as tf\n",
    "from tensorflow.keras.models import Sequential\n",
    "from tensorflow.keras.layers import Conv1D, MaxPooling1D, Flatten, Dense, Dropout\n",
    "from tensorflow.keras.utils import to_categorical\n",
    "from tensorflow.keras.callbacks import EarlyStopping\n",
    "\n",
    "hands = mp.solutions.hands.Hands()"
   ],
   "id": "6be6e39a08d4f019",
   "outputs": [
    {
     "name": "stderr",
     "output_type": "stream",
     "text": [
      "I0000 00:00:1738170894.871174 8835445 gl_context.cc:369] GL version: 2.1 (2.1 Metal - 89.3), renderer: Apple M2\n"
     ]
    }
   ],
   "execution_count": 37
  },
  {
   "metadata": {
    "ExecuteTime": {
     "end_time": "2025-01-29T15:26:04.596026Z",
     "start_time": "2025-01-29T15:26:04.592227Z"
    }
   },
   "cell_type": "code",
   "source": [
    "DATA_FOLDER = \"Sign-Dataset/\"\n",
    "TRAIN_DATA_FOLDER = DATA_FOLDER + \"asl_alphabet_train/\"\n",
    "TEST_DATA_FOLDER = DATA_FOLDER + \"asl_alphabet_test/\""
   ],
   "id": "25c46e1c0e5be48d",
   "outputs": [],
   "execution_count": 2
  },
  {
   "metadata": {
    "ExecuteTime": {
     "end_time": "2025-01-29T04:55:17.857707Z",
     "start_time": "2025-01-29T04:55:17.824905Z"
    }
   },
   "cell_type": "code",
   "source": "image = cv2.imread(TRAIN_DATA_FOLDER + \"A/A1.jpg\")",
   "id": "b47775330545fae9",
   "outputs": [],
   "execution_count": 51
  },
  {
   "metadata": {
    "ExecuteTime": {
     "end_time": "2025-01-29T04:55:18.302821Z",
     "start_time": "2025-01-29T04:55:18.296273Z"
    }
   },
   "cell_type": "code",
   "source": [
    "def cv2_imshow(image):\n",
    "    plt.imshow(cv2.cvtColor(image, cv2.COLOR_BGR2RGB))\n",
    "    plt.axis('off')  # Hide axis\n",
    "    plt.show()"
   ],
   "id": "ca96f0d38d6751d2",
   "outputs": [],
   "execution_count": 52
  },
  {
   "metadata": {
    "ExecuteTime": {
     "end_time": "2025-01-29T15:29:06.961723Z",
     "start_time": "2025-01-29T15:29:06.302391Z"
    }
   },
   "cell_type": "code",
   "source": [
    "mp_drawing = mp.solutions.drawing_utils\n",
    "\n",
    "results = hands.process(cv2.cvtColor(image, cv2.COLOR_BGR2RGB))\n",
    "\n",
    "landmark_frame = image.copy()\n",
    "\n",
    "if results.multi_hand_landmarks:\n",
    "  for hand_landmarks in results.multi_hand_landmarks:\n",
    "    mp_drawing.draw_landmarks(landmark_frame, hand_landmarks, mp.solutions.hands.HAND_CONNECTIONS)\n",
    "\n",
    "cv2_imshow(landmark_frame)\n"
   ],
   "id": "aa21b74b6594e4ee",
   "outputs": [
    {
     "name": "stderr",
     "output_type": "stream",
     "text": [
      "WARNING: All log messages before absl::InitializeLog() is called are written to STDERR\n",
      "I0000 00:00:1738164546.927752 8835445 gl_context.cc:369] GL version: 2.1 (2.1 Metal - 89.3), renderer: Apple M2\n"
     ]
    },
    {
     "ename": "NameError",
     "evalue": "name 'image' is not defined",
     "output_type": "error",
     "traceback": [
      "\u001B[0;31m---------------------------------------------------------------------------\u001B[0m",
      "\u001B[0;31mNameError\u001B[0m                                 Traceback (most recent call last)",
      "Cell \u001B[0;32mIn[8], line 4\u001B[0m\n\u001B[1;32m      1\u001B[0m hands \u001B[38;5;241m=\u001B[39m mp\u001B[38;5;241m.\u001B[39msolutions\u001B[38;5;241m.\u001B[39mhands\u001B[38;5;241m.\u001B[39mHands()\n\u001B[1;32m      2\u001B[0m mp_drawing \u001B[38;5;241m=\u001B[39m mp\u001B[38;5;241m.\u001B[39msolutions\u001B[38;5;241m.\u001B[39mdrawing_utils\n\u001B[0;32m----> 4\u001B[0m results \u001B[38;5;241m=\u001B[39m hands\u001B[38;5;241m.\u001B[39mprocess(cv2\u001B[38;5;241m.\u001B[39mcvtColor(\u001B[43mimage\u001B[49m, cv2\u001B[38;5;241m.\u001B[39mCOLOR_BGR2RGB))\n\u001B[1;32m      6\u001B[0m landmark_frame \u001B[38;5;241m=\u001B[39m image\u001B[38;5;241m.\u001B[39mcopy()\n\u001B[1;32m      8\u001B[0m \u001B[38;5;28;01mif\u001B[39;00m results\u001B[38;5;241m.\u001B[39mmulti_hand_landmarks:\n",
      "\u001B[0;31mNameError\u001B[0m: name 'image' is not defined"
     ]
    }
   ],
   "execution_count": 8
  },
  {
   "metadata": {
    "ExecuteTime": {
     "end_time": "2025-01-29T15:28:53.329173Z",
     "start_time": "2025-01-29T15:28:53.321916Z"
    }
   },
   "cell_type": "code",
   "source": "dataset_split = {\"Train\": [], \"Dev\": [], \"Test\": []}",
   "id": "dfc023e04d87c870",
   "outputs": [],
   "execution_count": 6
  },
  {
   "metadata": {
    "ExecuteTime": {
     "end_time": "2025-01-29T15:30:21.329967Z",
     "start_time": "2025-01-29T15:30:21.321754Z"
    }
   },
   "cell_type": "code",
   "source": [
    "def get_landmarks(image_path):\n",
    "    image = cv2.imread(image_path)\n",
    "    results = hands.process(cv2.cvtColor(image, cv2.COLOR_BGR2RGB))\n",
    "    \n",
    "    if results.multi_hand_landmarks:\n",
    "        return results.multi_hand_landmarks[0].landmark\n",
    "    else:\n",
    "        return []"
   ],
   "id": "c2d08c81cdc94a2c",
   "outputs": [],
   "execution_count": 13
  },
  {
   "metadata": {
    "ExecuteTime": {
     "end_time": "2025-01-29T16:18:25.573027Z",
     "start_time": "2025-01-29T15:30:22.720463Z"
    }
   },
   "cell_type": "code",
   "source": [
    "for class_name in os.listdir(TRAIN_DATA_FOLDER):\n",
    "    class_path = TRAIN_DATA_FOLDER + class_name\n",
    "    \n",
    "    if not os.path.isdir(class_path):\n",
    "        continue\n",
    "        \n",
    "    images = os.listdir(class_path)\n",
    "    \n",
    "    train_files, dev_files = train_test_split(images, test_size=0.2, random_state=42)\n",
    "    \n",
    "    for train_file in train_files:\n",
    "        dataset_split[\"Train\"].append({\"file_path\": class_path + \"/\" + train_file,\n",
    "                                       \"label\": class_name,\n",
    "                                       \"landmarks\": [(landmrk.x, landmrk.y) for landmrk in get_landmarks(class_path + \"/\" + train_file)]\n",
    "                                       })\n",
    "    for dev_file in dev_files:\n",
    "        dataset_split[\"Dev\"].append({\"file_path\": class_path + \"/\" + dev_file,\n",
    "                                       \"label\": class_name,\n",
    "                                       \"landmarks\": [(landmrk.x, landmrk.y) for landmrk in get_landmarks(class_path + \"/\" + dev_file)]\n",
    "                                       })\n",
    "\n",
    "for test_file in os.listdir(TEST_DATA_FOLDER):\n",
    "    image_path = TEST_DATA_FOLDER + test_file\n",
    "    class_name = test_file.split(\"_\")[0]\n",
    "    \n",
    "    dataset_split[\"Test\"].append({\"file_path\": image_path,\n",
    "                                   \"label\": class_name,\n",
    "                                   \"landmarks\": [(landmark.x, landmark.y) for landmark in get_landmarks(image_path)]\n",
    "                                   })\n",
    "\n",
    "with open(\"Sign-Dataset/dataset_split.json\", \"w\") as f:\n",
    "    json.dump(dataset_split, f, indent=4)"
   ],
   "id": "cb5ef06bc32ceff1",
   "outputs": [
    {
     "name": "stdout",
     "output_type": "stream",
     "text": [
      ".DS_Store\n",
      "R\n",
      "U\n",
      "I\n",
      "N\n",
      "G\n",
      "Z\n",
      "T\n",
      "S\n",
      "A\n",
      "F\n",
      "O\n",
      "H\n",
      "del\n",
      "nothing\n",
      "space\n",
      "M\n",
      "J\n",
      "C\n",
      "D\n",
      "V\n",
      "Q\n",
      "X\n",
      "E\n",
      "B\n",
      "K\n",
      "L\n",
      "Y\n",
      "P\n",
      "W\n"
     ]
    }
   ],
   "execution_count": 14
  },
  {
   "metadata": {
    "ExecuteTime": {
     "end_time": "2025-01-29T16:38:35.897895Z",
     "start_time": "2025-01-29T16:38:35.871769Z"
    }
   },
   "cell_type": "code",
   "source": [
    "import json\n",
    "import matplotlib.pyplot as plt\n",
    "from collections import defaultdict\n",
    "import numpy as np\n",
    "\n",
    "def analyze_and_visualize_landmarks(json_file):\n",
    "    with open(json_file, 'r') as f:\n",
    "        data = json.load(f)\n",
    "\n",
    "    # Dictionary to store counts separately for Train and Dev\n",
    "    dataset_counts = {\n",
    "        \"Train\": defaultdict(lambda: {\"total\": 0, \"with_landmarks\": 0}),\n",
    "        \"Dev\": defaultdict(lambda: {\"total\": 0, \"with_landmarks\": 0})\n",
    "    }\n",
    "\n",
    "    # Count instances per class for each dataset\n",
    "    for split in [\"Train\", \"Dev\"]:\n",
    "        for entry in data.get(split, []):\n",
    "            class_name = entry[\"label\"]\n",
    "            landmarks = entry.get(\"landmarks\", [])\n",
    "\n",
    "            dataset_counts[split][class_name][\"total\"] += 1\n",
    "            if landmarks:\n",
    "                dataset_counts[split][class_name][\"with_landmarks\"] += 1\n",
    "\n",
    "    # Function to plot bar chart\n",
    "    def plot_bar_chart(dataset_name, class_counts):\n",
    "        classes = list(class_counts.keys())\n",
    "        total_counts = [class_counts[cls][\"total\"] for cls in classes]\n",
    "        with_landmarks_counts = [class_counts[cls][\"with_landmarks\"] for cls in classes]\n",
    "\n",
    "        x = np.arange(len(classes))\n",
    "        width = 0.4\n",
    "\n",
    "        fig, ax = plt.subplots(figsize=(12, 6))\n",
    "        ax.bar(x - width/2, total_counts, width, label=\"Total Examples\", alpha=0.7)\n",
    "        ax.bar(x + width/2, with_landmarks_counts, width, label=\"With Landmarks\", alpha=0.9)\n",
    "\n",
    "        ax.set_xlabel(\"Class\")\n",
    "        ax.set_ylabel(\"Number of Examples\")\n",
    "        ax.set_title(f\"Landmark Presence Analysis - {dataset_name}\")\n",
    "        ax.set_xticks(x)\n",
    "        ax.set_xticklabels(classes, rotation=45, ha=\"right\")\n",
    "        ax.legend()\n",
    "\n",
    "        plt.tight_layout()\n",
    "        plt.show()\n",
    "\n",
    "    # Generate plots for Train and Dev\n",
    "    for split in [\"Train\", \"Dev\"]:\n",
    "        if dataset_counts[split]:  # Ensure there is data to plot\n",
    "            plot_bar_chart(split, dataset_counts[split])"
   ],
   "id": "cf21d7ab3d5708a8",
   "outputs": [],
   "execution_count": 25
  },
  {
   "metadata": {
    "ExecuteTime": {
     "end_time": "2025-01-29T16:38:41.270123Z",
     "start_time": "2025-01-29T16:38:37.939385Z"
    }
   },
   "cell_type": "code",
   "source": [
    "json_file = \"Sign-Dataset/dataset_split.json\"  # Replace with your actual file path\n",
    "analyze_and_visualize_landmarks(json_file)"
   ],
   "id": "a9a8adaa9ae7afa",
   "outputs": [
    {
     "data": {
      "text/plain": [
       "<Figure size 1200x600 with 1 Axes>"
      ],
      "image/png": "[encoded data removed]"
     },
     "metadata": {},
     "output_type": "display_data"
    },
    {
     "data": {
      "text/plain": [
       "<Figure size 1200x600 with 1 Axes>"
      ],
      "image/png": "[encoded data removed]"
     },
     "metadata": {},
     "output_type": "display_data"
    }
   ],
   "execution_count": 26
  },
  {
   "metadata": {
    "ExecuteTime": {
     "end_time": "2025-01-29T16:55:31.768515Z",
     "start_time": "2025-01-29T16:55:27.215831Z"
    }
   },
   "cell_type": "code",
   "source": [
    "# Load and preprocess data\n",
    "def load_data(json_file, exclude_class=\"nothing\"):\n",
    "    with open(json_file, 'r') as f:\n",
    "        data = json.load(f)\n",
    "\n",
    "    X_train, y_train = [], []\n",
    "    X_dev, y_dev = [], []\n",
    "    \n",
    "    for split in [\"Train\", \"Dev\"]:\n",
    "        for entry in data.get(split, []):\n",
    "            class_name = entry[\"label\"]\n",
    "            landmarks = entry.get(\"landmarks\", [])  # Fixed the typo from 'ladmarks'\n",
    "            \n",
    "            # Skip if class is \"nothing\"\n",
    "            if class_name == exclude_class:\n",
    "                continue\n",
    "\n",
    "            if landmarks:\n",
    "                if split == \"Train\":\n",
    "                    X_train.append(np.array(landmarks))  # Add to training data\n",
    "                    y_train.append(class_name)\n",
    "                else:\n",
    "                    X_dev.append(np.array(landmarks))  # Add to development data\n",
    "                    y_dev.append(class_name)\n",
    "\n",
    "    # Convert class labels to numerical values\n",
    "    class_names = sorted(set(y_train + y_dev))  # Get unique class names from both splits\n",
    "    class_to_index = {name: i for i, name in enumerate(class_names)}\n",
    "    \n",
    "    y_train = np.array([class_to_index[label] for label in y_train])  # Convert labels to indices\n",
    "    y_dev = np.array([class_to_index[label] for label in y_dev])  # Convert labels to indices\n",
    "    y_train = to_categorical(y_train, num_classes=len(class_names))  # One-hot encoding\n",
    "    y_dev = to_categorical(y_dev, num_classes=len(class_names))  # One-hot encoding\n",
    "\n",
    "    X_train = np.array(X_train)  # Convert input landmarks to NumPy array\n",
    "    X_dev = np.array(X_dev)  # Convert input landmarks to NumPy array\n",
    "    return X_train, y_train, X_dev, y_dev, class_names\n",
    "\n",
    "# Create TensorFlow Dataset with batch processing\n",
    "def create_tf_dataset(X, y, batch_size=32):\n",
    "    dataset = tf.data.Dataset.from_tensor_slices((X, y))\n",
    "    dataset = dataset.shuffle(buffer_size=len(X))  # Shuffle data\n",
    "    dataset = dataset.batch(batch_size).prefetch(tf.data.experimental.AUTOTUNE)  # Batch and optimize\n",
    "    return dataset"
   ],
   "id": "4c39fd4dfdb67e74",
   "outputs": [
    {
     "name": "stdout",
     "output_type": "stream",
     "text": [
      "Classes included: ['A', 'B', 'C', 'D', 'E', 'F', 'G', 'H', 'I', 'J', 'K', 'L', 'M', 'N', 'O', 'P', 'Q', 'R', 'S', 'T', 'U', 'V', 'W', 'X', 'Y', 'Z', 'del', 'space']\n",
      "Train batch X shape: (32, 21, 2)\n",
      "Train batch y shape: (32, 28)\n",
      "Dev batch X shape: (32, 21, 2)\n",
      "Dev batch y shape: (32, 28)\n"
     ]
    }
   ],
   "execution_count": 31
  },
  {
   "metadata": {
    "ExecuteTime": {
     "end_time": "2025-01-29T17:10:24.464930Z",
     "start_time": "2025-01-29T17:10:24.411993Z"
    }
   },
   "cell_type": "code",
   "source": [
    "def create_cnn_model(input_shape, num_classes):\n",
    "    model = Sequential([\n",
    "        Conv1D(filters=32, kernel_size=3, activation='relu', input_shape=input_shape),\n",
    "        MaxPooling1D(pool_size=2),\n",
    "        Conv1D(filters=64, kernel_size=3, activation='relu'),\n",
    "        MaxPooling1D(pool_size=2),\n",
    "        Flatten(),\n",
    "        Dense(128, activation='relu'),\n",
    "        Dropout(0.5),\n",
    "        Dense(num_classes, activation='softmax')\n",
    "    ])\n",
    "    \n",
    "    model.compile(optimizer='adam',\n",
    "                  loss='categorical_crossentropy',\n",
    "                  metrics=['accuracy'])\n",
    "    \n",
    "    return model"
   ],
   "id": "6add09bba2ae019c",
   "outputs": [],
   "execution_count": 32
  },
  {
   "metadata": {
    "ExecuteTime": {
     "end_time": "2025-01-29T17:11:37.525423Z",
     "start_time": "2025-01-29T17:11:20.797215Z"
    }
   },
   "cell_type": "code",
   "source": [
    "# Load preprocessed data (from previous steps)\n",
    "json_file = \"Sign-Dataset/dataset_split.json\"  # Replace with actual file\n",
    "X_train, y_train, X_dev, y_dev, class_names = load_data(json_file)\n",
    "\n",
    "# Get input shape (assuming landmarks have (x, y) coordinates)\n",
    "input_shape = X_train.shape[1:]  # (num_landmarks, 2)\n",
    "num_classes = len(class_names)"
   ],
   "id": "770c0dec8f4170e9",
   "outputs": [],
   "execution_count": 34
  },
  {
   "metadata": {
    "ExecuteTime": {
     "end_time": "2025-01-29T17:13:17.965559Z",
     "start_time": "2025-01-29T17:13:17.823099Z"
    }
   },
   "cell_type": "code",
   "source": [
    "# Create model\n",
    "model = create_cnn_model(input_shape, num_classes)\n",
    "model.summary()"
   ],
   "id": "db0311e601296660",
   "outputs": [
    {
     "data": {
      "text/plain": [
       "\u001B[1mModel: \"sequential_3\"\u001B[0m\n"
      ],
      "text/html": [
       "<pre style=\"white-space:pre;overflow-x:auto;line-height:normal;font-family:Menlo,'DejaVu Sans Mono',consolas,'Courier New',monospace\"><span style=\"font-weight: bold\">Model: \"sequential_3\"</span>\n",
       "</pre>\n"
      ]
     },
     "metadata": {},
     "output_type": "display_data"
    },
    {
     "data": {
      "text/plain": [
       "┏━━━━━━━━━━━━━━━━━━━━━━━━━━━━━━━━━┳━━━━━━━━━━━━━━━━━━━━━━━━┳━━━━━━━━━━━━━━━┓\n",
       "┃\u001B[1m \u001B[0m\u001B[1mLayer (type)                   \u001B[0m\u001B[1m \u001B[0m┃\u001B[1m \u001B[0m\u001B[1mOutput Shape          \u001B[0m\u001B[1m \u001B[0m┃\u001B[1m \u001B[0m\u001B[1m      Param #\u001B[0m\u001B[1m \u001B[0m┃\n",
       "┡━━━━━━━━━━━━━━━━━━━━━━━━━━━━━━━━━╇━━━━━━━━━━━━━━━━━━━━━━━━╇━━━━━━━━━━━━━━━┩\n",
       "│ conv1d_6 (\u001B[38;5;33mConv1D\u001B[0m)               │ (\u001B[38;5;45mNone\u001B[0m, \u001B[38;5;34m19\u001B[0m, \u001B[38;5;34m32\u001B[0m)         │           \u001B[38;5;34m224\u001B[0m │\n",
       "├─────────────────────────────────┼────────────────────────┼───────────────┤\n",
       "│ max_pooling1d_6 (\u001B[38;5;33mMaxPooling1D\u001B[0m)  │ (\u001B[38;5;45mNone\u001B[0m, \u001B[38;5;34m9\u001B[0m, \u001B[38;5;34m32\u001B[0m)          │             \u001B[38;5;34m0\u001B[0m │\n",
       "├─────────────────────────────────┼────────────────────────┼───────────────┤\n",
       "│ conv1d_7 (\u001B[38;5;33mConv1D\u001B[0m)               │ (\u001B[38;5;45mNone\u001B[0m, \u001B[38;5;34m7\u001B[0m, \u001B[38;5;34m64\u001B[0m)          │         \u001B[38;5;34m6,208\u001B[0m │\n",
       "├─────────────────────────────────┼────────────────────────┼───────────────┤\n",
       "│ max_pooling1d_7 (\u001B[38;5;33mMaxPooling1D\u001B[0m)  │ (\u001B[38;5;45mNone\u001B[0m, \u001B[38;5;34m3\u001B[0m, \u001B[38;5;34m64\u001B[0m)          │             \u001B[38;5;34m0\u001B[0m │\n",
       "├─────────────────────────────────┼────────────────────────┼───────────────┤\n",
       "│ flatten_3 (\u001B[38;5;33mFlatten\u001B[0m)             │ (\u001B[38;5;45mNone\u001B[0m, \u001B[38;5;34m192\u001B[0m)            │             \u001B[38;5;34m0\u001B[0m │\n",
       "├─────────────────────────────────┼────────────────────────┼───────────────┤\n",
       "│ dense_6 (\u001B[38;5;33mDense\u001B[0m)                 │ (\u001B[38;5;45mNone\u001B[0m, \u001B[38;5;34m128\u001B[0m)            │        \u001B[38;5;34m24,704\u001B[0m │\n",
       "├─────────────────────────────────┼────────────────────────┼───────────────┤\n",
       "│ dropout_3 (\u001B[38;5;33mDropout\u001B[0m)             │ (\u001B[38;5;45mNone\u001B[0m, \u001B[38;5;34m128\u001B[0m)            │             \u001B[38;5;34m0\u001B[0m │\n",
       "├─────────────────────────────────┼────────────────────────┼───────────────┤\n",
       "│ dense_7 (\u001B[38;5;33mDense\u001B[0m)                 │ (\u001B[38;5;45mNone\u001B[0m, \u001B[38;5;34m28\u001B[0m)             │         \u001B[38;5;34m3,612\u001B[0m │\n",
       "└─────────────────────────────────┴────────────────────────┴───────────────┘\n"
      ],
      "text/html": [
       "<pre style=\"white-space:pre;overflow-x:auto;line-height:normal;font-family:Menlo,'DejaVu Sans Mono',consolas,'Courier New',monospace\">┏━━━━━━━━━━━━━━━━━━━━━━━━━━━━━━━━━┳━━━━━━━━━━━━━━━━━━━━━━━━┳━━━━━━━━━━━━━━━┓\n",
       "┃<span style=\"font-weight: bold\"> Layer (type)                    </span>┃<span style=\"font-weight: bold\"> Output Shape           </span>┃<span style=\"font-weight: bold\">       Param # </span>┃\n",
       "┡━━━━━━━━━━━━━━━━━━━━━━━━━━━━━━━━━╇━━━━━━━━━━━━━━━━━━━━━━━━╇━━━━━━━━━━━━━━━┩\n",
       "│ conv1d_6 (<span style=\"color: #0087ff; text-decoration-color: #0087ff\">Conv1D</span>)               │ (<span style=\"color: #00d7ff; text-decoration-color: #00d7ff\">None</span>, <span style=\"color: #00af00; text-decoration-color: #00af00\">19</span>, <span style=\"color: #00af00; text-decoration-color: #00af00\">32</span>)         │           <span style=\"color: #00af00; text-decoration-color: #00af00\">224</span> │\n",
       "├─────────────────────────────────┼────────────────────────┼───────────────┤\n",
       "│ max_pooling1d_6 (<span style=\"color: #0087ff; text-decoration-color: #0087ff\">MaxPooling1D</span>)  │ (<span style=\"color: #00d7ff; text-decoration-color: #00d7ff\">None</span>, <span style=\"color: #00af00; text-decoration-color: #00af00\">9</span>, <span style=\"color: #00af00; text-decoration-color: #00af00\">32</span>)          │             <span style=\"color: #00af00; text-decoration-color: #00af00\">0</span> │\n",
       "├─────────────────────────────────┼────────────────────────┼───────────────┤\n",
       "│ conv1d_7 (<span style=\"color: #0087ff; text-decoration-color: #0087ff\">Conv1D</span>)               │ (<span style=\"color: #00d7ff; text-decoration-color: #00d7ff\">None</span>, <span style=\"color: #00af00; text-decoration-color: #00af00\">7</span>, <span style=\"color: #00af00; text-decoration-color: #00af00\">64</span>)          │         <span style=\"color: #00af00; text-decoration-color: #00af00\">6,208</span> │\n",
       "├─────────────────────────────────┼────────────────────────┼───────────────┤\n",
       "│ max_pooling1d_7 (<span style=\"color: #0087ff; text-decoration-color: #0087ff\">MaxPooling1D</span>)  │ (<span style=\"color: #00d7ff; text-decoration-color: #00d7ff\">None</span>, <span style=\"color: #00af00; text-decoration-color: #00af00\">3</span>, <span style=\"color: #00af00; text-decoration-color: #00af00\">64</span>)          │             <span style=\"color: #00af00; text-decoration-color: #00af00\">0</span> │\n",
       "├─────────────────────────────────┼────────────────────────┼───────────────┤\n",
       "│ flatten_3 (<span style=\"color: #0087ff; text-decoration-color: #0087ff\">Flatten</span>)             │ (<span style=\"color: #00d7ff; text-decoration-color: #00d7ff\">None</span>, <span style=\"color: #00af00; text-decoration-color: #00af00\">192</span>)            │             <span style=\"color: #00af00; text-decoration-color: #00af00\">0</span> │\n",
       "├─────────────────────────────────┼────────────────────────┼───────────────┤\n",
       "│ dense_6 (<span style=\"color: #0087ff; text-decoration-color: #0087ff\">Dense</span>)                 │ (<span style=\"color: #00d7ff; text-decoration-color: #00d7ff\">None</span>, <span style=\"color: #00af00; text-decoration-color: #00af00\">128</span>)            │        <span style=\"color: #00af00; text-decoration-color: #00af00\">24,704</span> │\n",
       "├─────────────────────────────────┼────────────────────────┼───────────────┤\n",
       "│ dropout_3 (<span style=\"color: #0087ff; text-decoration-color: #0087ff\">Dropout</span>)             │ (<span style=\"color: #00d7ff; text-decoration-color: #00d7ff\">None</span>, <span style=\"color: #00af00; text-decoration-color: #00af00\">128</span>)            │             <span style=\"color: #00af00; text-decoration-color: #00af00\">0</span> │\n",
       "├─────────────────────────────────┼────────────────────────┼───────────────┤\n",
       "│ dense_7 (<span style=\"color: #0087ff; text-decoration-color: #0087ff\">Dense</span>)                 │ (<span style=\"color: #00d7ff; text-decoration-color: #00d7ff\">None</span>, <span style=\"color: #00af00; text-decoration-color: #00af00\">28</span>)             │         <span style=\"color: #00af00; text-decoration-color: #00af00\">3,612</span> │\n",
       "└─────────────────────────────────┴────────────────────────┴───────────────┘\n",
       "</pre>\n"
      ]
     },
     "metadata": {},
     "output_type": "display_data"
    },
    {
     "data": {
      "text/plain": [
       "\u001B[1m Total params: \u001B[0m\u001B[38;5;34m34,748\u001B[0m (135.73 KB)\n"
      ],
      "text/html": [
       "<pre style=\"white-space:pre;overflow-x:auto;line-height:normal;font-family:Menlo,'DejaVu Sans Mono',consolas,'Courier New',monospace\"><span style=\"font-weight: bold\"> Total params: </span><span style=\"color: #00af00; text-decoration-color: #00af00\">34,748</span> (135.73 KB)\n",
       "</pre>\n"
      ]
     },
     "metadata": {},
     "output_type": "display_data"
    },
    {
     "data": {
      "text/plain": [
       "\u001B[1m Trainable params: \u001B[0m\u001B[38;5;34m34,748\u001B[0m (135.73 KB)\n"
      ],
      "text/html": [
       "<pre style=\"white-space:pre;overflow-x:auto;line-height:normal;font-family:Menlo,'DejaVu Sans Mono',consolas,'Courier New',monospace\"><span style=\"font-weight: bold\"> Trainable params: </span><span style=\"color: #00af00; text-decoration-color: #00af00\">34,748</span> (135.73 KB)\n",
       "</pre>\n"
      ]
     },
     "metadata": {},
     "output_type": "display_data"
    },
    {
     "data": {
      "text/plain": [
       "\u001B[1m Non-trainable params: \u001B[0m\u001B[38;5;34m0\u001B[0m (0.00 B)\n"
      ],
      "text/html": [
       "<pre style=\"white-space:pre;overflow-x:auto;line-height:normal;font-family:Menlo,'DejaVu Sans Mono',consolas,'Courier New',monospace\"><span style=\"font-weight: bold\"> Non-trainable params: </span><span style=\"color: #00af00; text-decoration-color: #00af00\">0</span> (0.00 B)\n",
       "</pre>\n"
      ]
     },
     "metadata": {},
     "output_type": "display_data"
    }
   ],
   "execution_count": 36
  },
  {
   "metadata": {
    "ExecuteTime": {
     "end_time": "2025-01-29T17:16:52.526309Z",
     "start_time": "2025-01-29T17:15:23.404950Z"
    }
   },
   "cell_type": "code",
   "source": [
    "# Convert NumPy data to TensorFlow datasets\n",
    "batch_size = 32\n",
    "train_dataset = create_tf_dataset(X_train, y_train, batch_size)\n",
    "dev_dataset = create_tf_dataset(X_dev, y_dev, batch_size)\n",
    "\n",
    "# Early stopping to prevent overfitting\n",
    "early_stopping = EarlyStopping(monitor='val_loss', patience=5, restore_best_weights=True)\n",
    "\n",
    "# Train the model\n",
    "history = model.fit(\n",
    "    train_dataset,\n",
    "    validation_data=dev_dataset,\n",
    "    epochs=100,  # Adjust epochs as needed\n",
    "    callbacks=[early_stopping]\n",
    ")\n",
    "\n",
    "# Evaluate on the dev dataset\n",
    "loss, accuracy = model.evaluate(dev_dataset)\n",
    "print(f\"Validation Accuracy: {accuracy * 100:.2f}%\")\n",
    "\n",
    "# Save the trained model\n",
    "model.save(\"asl_hand_landmark_model.h5\")\n",
    "print(\"Model saved successfully!\")\n"
   ],
   "id": "d1e82414771b24aa",
   "outputs": [
    {
     "name": "stdout",
     "output_type": "stream",
     "text": [
      "Epoch 1/100\n",
      "\u001B[1m1671/1671\u001B[0m \u001B[32m━━━━━━━━━━━━━━━━━━━━\u001B[0m\u001B[37m\u001B[0m \u001B[1m4s\u001B[0m 1ms/step - accuracy: 0.3806 - loss: 2.1384 - val_accuracy: 0.9031 - val_loss: 0.4398\n",
      "Epoch 2/100\n",
      "\u001B[1m1671/1671\u001B[0m \u001B[32m━━━━━━━━━━━━━━━━━━━━\u001B[0m\u001B[37m\u001B[0m \u001B[1m3s\u001B[0m 1ms/step - accuracy: 0.8576 - loss: 0.5373 - val_accuracy: 0.9188 - val_loss: 0.3363\n",
      "Epoch 3/100\n",
      "\u001B[1m1671/1671\u001B[0m \u001B[32m━━━━━━━━━━━━━━━━━━━━\u001B[0m\u001B[37m\u001B[0m \u001B[1m2s\u001B[0m 1ms/step - accuracy: 0.8848 - loss: 0.4314 - val_accuracy: 0.9090 - val_loss: 0.3173\n",
      "Epoch 4/100\n",
      "\u001B[1m1671/1671\u001B[0m \u001B[32m━━━━━━━━━━━━━━━━━━━━\u001B[0m\u001B[37m\u001B[0m \u001B[1m2s\u001B[0m 1ms/step - accuracy: 0.9033 - loss: 0.3737 - val_accuracy: 0.9318 - val_loss: 0.2523\n",
      "Epoch 5/100\n",
      "\u001B[1m1671/1671\u001B[0m \u001B[32m━━━━━━━━━━━━━━━━━━━━\u001B[0m\u001B[37m\u001B[0m \u001B[1m3s\u001B[0m 2ms/step - accuracy: 0.9084 - loss: 0.3366 - val_accuracy: 0.9397 - val_loss: 0.2257\n",
      "Epoch 6/100\n",
      "\u001B[1m1671/1671\u001B[0m \u001B[32m━━━━━━━━━━━━━━━━━━━━\u001B[0m\u001B[37m\u001B[0m \u001B[1m2s\u001B[0m 1ms/step - accuracy: 0.9171 - loss: 0.3081 - val_accuracy: 0.9328 - val_loss: 0.2221\n",
      "Epoch 7/100\n",
      "\u001B[1m1671/1671\u001B[0m \u001B[32m━━━━━━━━━━━━━━━━━━━━\u001B[0m\u001B[37m\u001B[0m \u001B[1m2s\u001B[0m 1ms/step - accuracy: 0.9262 - loss: 0.2763 - val_accuracy: 0.9485 - val_loss: 0.1874\n",
      "Epoch 8/100\n",
      "\u001B[1m1671/1671\u001B[0m \u001B[32m━━━━━━━━━━━━━━━━━━━━\u001B[0m\u001B[37m\u001B[0m \u001B[1m2s\u001B[0m 1ms/step - accuracy: 0.9277 - loss: 0.2611 - val_accuracy: 0.9538 - val_loss: 0.1739\n",
      "Epoch 9/100\n",
      "\u001B[1m1671/1671\u001B[0m \u001B[32m━━━━━━━━━━━━━━━━━━━━\u001B[0m\u001B[37m\u001B[0m \u001B[1m2s\u001B[0m 1ms/step - accuracy: 0.9324 - loss: 0.2387 - val_accuracy: 0.9544 - val_loss: 0.1654\n",
      "Epoch 10/100\n",
      "\u001B[1m1671/1671\u001B[0m \u001B[32m━━━━━━━━━━━━━━━━━━━━\u001B[0m\u001B[37m\u001B[0m \u001B[1m2s\u001B[0m 1ms/step - accuracy: 0.9378 - loss: 0.2216 - val_accuracy: 0.9504 - val_loss: 0.1807\n",
      "Epoch 11/100\n",
      "\u001B[1m1671/1671\u001B[0m \u001B[32m━━━━━━━━━━━━━━━━━━━━\u001B[0m\u001B[37m\u001B[0m \u001B[1m2s\u001B[0m 1ms/step - accuracy: 0.9402 - loss: 0.2133 - val_accuracy: 0.9574 - val_loss: 0.1603\n",
      "Epoch 12/100\n",
      "\u001B[1m1671/1671\u001B[0m \u001B[32m━━━━━━━━━━━━━━━━━━━━\u001B[0m\u001B[37m\u001B[0m \u001B[1m2s\u001B[0m 1ms/step - accuracy: 0.9448 - loss: 0.2018 - val_accuracy: 0.9587 - val_loss: 0.1503\n",
      "Epoch 13/100\n",
      "\u001B[1m1671/1671\u001B[0m \u001B[32m━━━━━━━━━━━━━━━━━━━━\u001B[0m\u001B[37m\u001B[0m \u001B[1m3s\u001B[0m 2ms/step - accuracy: 0.9466 - loss: 0.1952 - val_accuracy: 0.9583 - val_loss: 0.1507\n",
      "Epoch 14/100\n",
      "\u001B[1m1671/1671\u001B[0m \u001B[32m━━━━━━━━━━━━━━━━━━━━\u001B[0m\u001B[37m\u001B[0m \u001B[1m2s\u001B[0m 1ms/step - accuracy: 0.9470 - loss: 0.1895 - val_accuracy: 0.9620 - val_loss: 0.1406\n",
      "Epoch 15/100\n",
      "\u001B[1m1671/1671\u001B[0m \u001B[32m━━━━━━━━━━━━━━━━━━━━\u001B[0m\u001B[37m\u001B[0m \u001B[1m2s\u001B[0m 1ms/step - accuracy: 0.9481 - loss: 0.1862 - val_accuracy: 0.9639 - val_loss: 0.1341\n",
      "Epoch 16/100\n",
      "\u001B[1m1671/1671\u001B[0m \u001B[32m━━━━━━━━━━━━━━━━━━━━\u001B[0m\u001B[37m\u001B[0m \u001B[1m2s\u001B[0m 1ms/step - accuracy: 0.9513 - loss: 0.1746 - val_accuracy: 0.9636 - val_loss: 0.1319\n",
      "Epoch 17/100\n",
      "\u001B[1m1671/1671\u001B[0m \u001B[32m━━━━━━━━━━━━━━━━━━━━\u001B[0m\u001B[37m\u001B[0m \u001B[1m2s\u001B[0m 1ms/step - accuracy: 0.9509 - loss: 0.1696 - val_accuracy: 0.9647 - val_loss: 0.1277\n",
      "Epoch 18/100\n",
      "\u001B[1m1671/1671\u001B[0m \u001B[32m━━━━━━━━━━━━━━━━━━━━\u001B[0m\u001B[37m\u001B[0m \u001B[1m3s\u001B[0m 2ms/step - accuracy: 0.9533 - loss: 0.1626 - val_accuracy: 0.9661 - val_loss: 0.1259\n",
      "Epoch 19/100\n",
      "\u001B[1m1671/1671\u001B[0m \u001B[32m━━━━━━━━━━━━━━━━━━━━\u001B[0m\u001B[37m\u001B[0m \u001B[1m2s\u001B[0m 1ms/step - accuracy: 0.9542 - loss: 0.1574 - val_accuracy: 0.9624 - val_loss: 0.1304\n",
      "Epoch 20/100\n",
      "\u001B[1m1671/1671\u001B[0m \u001B[32m━━━━━━━━━━━━━━━━━━━━\u001B[0m\u001B[37m\u001B[0m \u001B[1m2s\u001B[0m 1ms/step - accuracy: 0.9566 - loss: 0.1513 - val_accuracy: 0.9677 - val_loss: 0.1168\n",
      "Epoch 21/100\n",
      "\u001B[1m1671/1671\u001B[0m \u001B[32m━━━━━━━━━━━━━━━━━━━━\u001B[0m\u001B[37m\u001B[0m \u001B[1m2s\u001B[0m 1ms/step - accuracy: 0.9571 - loss: 0.1504 - val_accuracy: 0.9661 - val_loss: 0.1273\n",
      "Epoch 22/100\n",
      "\u001B[1m1671/1671\u001B[0m \u001B[32m━━━━━━━━━━━━━━━━━━━━\u001B[0m\u001B[37m\u001B[0m \u001B[1m2s\u001B[0m 1ms/step - accuracy: 0.9559 - loss: 0.1533 - val_accuracy: 0.9661 - val_loss: 0.1226\n",
      "Epoch 23/100\n",
      "\u001B[1m1671/1671\u001B[0m \u001B[32m━━━━━━━━━━━━━━━━━━━━\u001B[0m\u001B[37m\u001B[0m \u001B[1m2s\u001B[0m 1ms/step - accuracy: 0.9574 - loss: 0.1474 - val_accuracy: 0.9702 - val_loss: 0.1169\n",
      "Epoch 24/100\n",
      "\u001B[1m1671/1671\u001B[0m \u001B[32m━━━━━━━━━━━━━━━━━━━━\u001B[0m\u001B[37m\u001B[0m \u001B[1m2s\u001B[0m 1ms/step - accuracy: 0.9576 - loss: 0.1446 - val_accuracy: 0.9692 - val_loss: 0.1123\n",
      "Epoch 25/100\n",
      "\u001B[1m1671/1671\u001B[0m \u001B[32m━━━━━━━━━━━━━━━━━━━━\u001B[0m\u001B[37m\u001B[0m \u001B[1m2s\u001B[0m 1ms/step - accuracy: 0.9585 - loss: 0.1405 - val_accuracy: 0.9669 - val_loss: 0.1180\n",
      "Epoch 26/100\n",
      "\u001B[1m1671/1671\u001B[0m \u001B[32m━━━━━━━━━━━━━━━━━━━━\u001B[0m\u001B[37m\u001B[0m \u001B[1m2s\u001B[0m 1ms/step - accuracy: 0.9602 - loss: 0.1358 - val_accuracy: 0.9717 - val_loss: 0.1075\n",
      "Epoch 27/100\n",
      "\u001B[1m1671/1671\u001B[0m \u001B[32m━━━━━━━━━━━━━━━━━━━━\u001B[0m\u001B[37m\u001B[0m \u001B[1m2s\u001B[0m 1ms/step - accuracy: 0.9606 - loss: 0.1347 - val_accuracy: 0.9700 - val_loss: 0.1102\n",
      "Epoch 28/100\n",
      "\u001B[1m1671/1671\u001B[0m \u001B[32m━━━━━━━━━━━━━━━━━━━━\u001B[0m\u001B[37m\u001B[0m \u001B[1m3s\u001B[0m 2ms/step - accuracy: 0.9626 - loss: 0.1279 - val_accuracy: 0.9685 - val_loss: 0.1204\n",
      "Epoch 29/100\n",
      "\u001B[1m1671/1671\u001B[0m \u001B[32m━━━━━━━━━━━━━━━━━━━━\u001B[0m\u001B[37m\u001B[0m \u001B[1m4s\u001B[0m 2ms/step - accuracy: 0.9609 - loss: 0.1291 - val_accuracy: 0.9681 - val_loss: 0.1179\n",
      "Epoch 30/100\n",
      "\u001B[1m1671/1671\u001B[0m \u001B[32m━━━━━━━━━━━━━━━━━━━━\u001B[0m\u001B[37m\u001B[0m \u001B[1m3s\u001B[0m 1ms/step - accuracy: 0.9624 - loss: 0.1290 - val_accuracy: 0.9684 - val_loss: 0.1193\n",
      "Epoch 31/100\n",
      "\u001B[1m1671/1671\u001B[0m \u001B[32m━━━━━━━━━━━━━━━━━━━━\u001B[0m\u001B[37m\u001B[0m \u001B[1m3s\u001B[0m 2ms/step - accuracy: 0.9634 - loss: 0.1213 - val_accuracy: 0.9707 - val_loss: 0.1053\n",
      "Epoch 32/100\n",
      "\u001B[1m1671/1671\u001B[0m \u001B[32m━━━━━━━━━━━━━━━━━━━━\u001B[0m\u001B[37m\u001B[0m \u001B[1m2s\u001B[0m 1ms/step - accuracy: 0.9612 - loss: 0.1274 - val_accuracy: 0.9693 - val_loss: 0.1133\n",
      "Epoch 33/100\n",
      "\u001B[1m1671/1671\u001B[0m \u001B[32m━━━━━━━━━━━━━━━━━━━━\u001B[0m\u001B[37m\u001B[0m \u001B[1m2s\u001B[0m 1ms/step - accuracy: 0.9633 - loss: 0.1256 - val_accuracy: 0.9679 - val_loss: 0.1151\n",
      "Epoch 34/100\n",
      "\u001B[1m1671/1671\u001B[0m \u001B[32m━━━━━━━━━━━━━━━━━━━━\u001B[0m\u001B[37m\u001B[0m \u001B[1m2s\u001B[0m 1ms/step - accuracy: 0.9625 - loss: 0.1270 - val_accuracy: 0.9691 - val_loss: 0.1139\n",
      "Epoch 35/100\n",
      "\u001B[1m1671/1671\u001B[0m \u001B[32m━━━━━━━━━━━━━━━━━━━━\u001B[0m\u001B[37m\u001B[0m \u001B[1m2s\u001B[0m 1ms/step - accuracy: 0.9636 - loss: 0.1219 - val_accuracy: 0.9715 - val_loss: 0.1103\n",
      "Epoch 36/100\n",
      "\u001B[1m1671/1671\u001B[0m \u001B[32m━━━━━━━━━━━━━━━━━━━━\u001B[0m\u001B[37m\u001B[0m \u001B[1m2s\u001B[0m 1ms/step - accuracy: 0.9648 - loss: 0.1156 - val_accuracy: 0.9725 - val_loss: 0.1058\n",
      "\u001B[1m415/415\u001B[0m \u001B[32m━━━━━━━━━━━━━━━━━━━━\u001B[0m\u001B[37m\u001B[0m \u001B[1m0s\u001B[0m 571us/step - accuracy: 0.9700 - loss: 0.1051\n"
     ]
    },
    {
     "name": "stderr",
     "output_type": "stream",
     "text": [
      "WARNING:absl:You are saving your model as an HDF5 file via `model.save()` or `keras.saving.save_model(model)`. This file format is considered legacy. We recommend using instead the native Keras format, e.g. `model.save('my_model.keras')` or `keras.saving.save_model(model, 'my_model.keras')`. \n"
     ]
    },
    {
     "name": "stdout",
     "output_type": "stream",
     "text": [
      "Validation Accuracy: 97.07%\n",
      "Model saved successfully!\n"
     ]
    }
   ],
   "execution_count": 38
  },
  {
   "metadata": {
    "ExecuteTime": {
     "end_time": "2025-01-29T17:34:55.884441Z",
     "start_time": "2025-01-29T17:34:48.529372Z"
    }
   },
   "cell_type": "code",
   "source": [
    "# Load test data (same process as train/dev)\n",
    "def load_test_data(json_file, class_names):\n",
    "    with open(json_file, 'r') as f:\n",
    "        data = json.load(f)\n",
    "\n",
    "    X_test, y_test = [], []\n",
    "\n",
    "    for entry in data.get(\"Test\", []):  # Assuming test data is under \"Test\" key\n",
    "        class_name = entry[\"label\"]\n",
    "        landmarks = entry.get(\"landmarks\", [])  # Correct key name\n",
    "\n",
    "        # Skip if no landmarks\n",
    "        if not landmarks:\n",
    "            continue\n",
    "\n",
    "        X_test.append(np.array(landmarks))  # Convert landmarks to NumPy array\n",
    "        y_test.append(class_name)\n",
    "\n",
    "    # Convert class labels to indices based on training class names\n",
    "    class_to_index = {name: i for i, name in enumerate(class_names)}\n",
    "    y_test = np.array([class_to_index[label] for label in y_test if label in class_to_index])  # Filter out unknown labels\n",
    "    y_test = tf.keras.utils.to_categorical(y_test, num_classes=len(class_names))  # One-hot encoding\n",
    "\n",
    "    X_test = np.array(X_test)  # Convert input landmarks to NumPy array\n",
    "    return X_test, y_test\n",
    "\n",
    "# Load the trained model\n",
    "model = tf.keras.models.load_model(\"Models/asl_hand_landmark_model.h5\")\n",
    "\n",
    "# Load test dataset\n",
    "test_json_file = \"Sign-Dataset/dataset_split.json\"  # Replace with actual test file path\n",
    "X_test, y_test = load_test_data(test_json_file, class_names)\n",
    "\n",
    "# Create TensorFlow dataset for test\n",
    "test_dataset = tf.data.Dataset.from_tensor_slices((X_test, y_test)).batch(32)\n",
    "\n",
    "# Evaluate the model on test dataset\n",
    "test_loss, test_accuracy = model.evaluate(test_dataset)\n",
    "print(f\"Test Accuracy: {test_accuracy * 100:.2f}%\")\n"
   ],
   "id": "b7482799b7107296",
   "outputs": [
    {
     "name": "stderr",
     "output_type": "stream",
     "text": [
      "WARNING:absl:Compiled the loaded model, but the compiled metrics have yet to be built. `model.compile_metrics` will be empty until you train or evaluate the model.\n"
     ]
    },
    {
     "name": "stdout",
     "output_type": "stream",
     "text": [
      "\u001B[1m1/1\u001B[0m \u001B[32m━━━━━━━━━━━━━━━━━━━━\u001B[0m\u001B[37m\u001B[0m \u001B[1m0s\u001B[0m 232ms/step - accuracy: 1.0000 - loss: 0.0225\n",
      "Test Accuracy: 100.00%\n"
     ]
    }
   ],
   "execution_count": 43
  },
  {
   "metadata": {},
   "cell_type": "code",
   "outputs": [],
   "execution_count": null,
   "source": "",
   "id": "cb65d91d0273795c"
  }
 ],
 "metadata": {
  "kernelspec": {
   "display_name": "Python 3",
   "language": "python",
   "name": "python3"
  },
  "language_info": {
   "codemirror_mode": {
    "name": "ipython",
    "version": 2
   },
   "file_extension": ".py",
   "mimetype": "text/x-python",
   "name": "python",
   "nbconvert_exporter": "python",
   "pygments_lexer": "ipython2",
   "version": "2.7.6"
  }
 },
 "nbformat": 4,
 "nbformat_minor": 5
}
